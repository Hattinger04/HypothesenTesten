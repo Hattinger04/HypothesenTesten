{
 "cells": [
  {
   "cell_type": "code",
   "execution_count": null,
   "metadata": {},
   "outputs": [],
   "source": [
    "import numpy as np\n",
    "import pandas as pd\n",
    "import matplotlib.pyplot as plt\n",
    "import seaborn as sns\n",
    "from scipy.stats import mannwhitneyu, spearmanr, pearsonr, chi2_contingency\n",
    "\n",
    "# importieren der daten\n",
    "\n",
    "df = pd.read_csv(\"ESS8e02.1_F1.csv\", sep=\",\")\n",
    "print(df)"
   ]
  },
  {
   "cell_type": "code",
   "execution_count": 33,
   "metadata": {},
   "outputs": [],
   "source": [
    "# beschriftung der daten\n",
    "df[\"gndr\"] = pd.cut(df[\"gndr\"], [0,1,2,9], labels=[\"Male\", \"Female\", \"No Answer\"])"
   ]
  },
  {
   "cell_type": "code",
   "execution_count": null,
   "metadata": {},
   "outputs": [],
   "source": [
    "# datensatz aus deutschland\n",
    "df_de = df.loc[df.cntry == \"DE\"]\n",
    "print(df_de)"
   ]
  },
  {
   "cell_type": "code",
   "execution_count": null,
   "metadata": {},
   "outputs": [],
   "source": [
    "# datensatz aus deutschland und italien\n",
    "df_de_it = df.loc[df.cntry.isin([\"DE\", \"IT\"])]\n",
    "print(df_de_it)"
   ]
  },
  {
   "cell_type": "code",
   "execution_count": null,
   "metadata": {},
   "outputs": [],
   "source": [
    "# hypothesentest a: Maenner haben mehr Glauben in die Polizei (trstplc, gender)\n",
    "\n",
    "# aufbereitung der daten:\n",
    "trust = df[\"trstplc\"]\n",
    "trust.drop(trust.loc[trust > 10].index, axis=0, inplace=True)\n",
    "maenner = trust.loc[df[\"gndr\"] == \"Male\"][:-3]\n",
    "frauen = trust.loc[df[\"gndr\"] == \"Female\"][:-3]\n",
    "\n",
    "x = pd.crosstab(trust,df['gndr'], normalize='index')\n",
    "x.plot.bar(rot=0)\n",
    "plt.show()\n",
    "\n",
    "# hypothesentest: \n",
    "s, p = mannwhitneyu(maenner, frauen)\n",
    "print(\"Ergebnis: \", s)\n",
    "print(\"P-Wert: \", p)\n",
    "\n",
    "# Interpretation: \n",
    "# falsch! Frauen trauen der Polizei mehr!"
   ]
  },
  {
   "cell_type": "code",
   "execution_count": null,
   "metadata": {},
   "outputs": [],
   "source": [
    "# hypothesentest b: Es besteht ein negativer Zusammenhang bei \"mehr Strom aus nuklearer Energie\" und \"mehr Strom aus Solarenergie\" (elgnuc, elgsun).\n",
    "\n",
    "# aufbereitung der daten:\n",
    "\n",
    "nuklear = df[\"elgnuc\"]\n",
    "nuklear.drop(nuklear.loc[nuklear > 5].index, axis=0, inplace=True)\n",
    "\n",
    "solar = df[\"elgsun\"]\n",
    "solar.drop(solar.loc[solar > 5].index, axis=0, inplace=True)\n",
    "\n",
    "\n",
    "ct = pd.crosstab(nuklear, solar, normalize='index').round(decimals = 4)\n",
    "chi, p, dof, expected = chi2_contingency(ct)\n",
    "\n",
    "sns.heatmap(ct, annot=False, cmap=\"YlGnBu\")\n",
    "sns.heatmap(ct, annot=ct, annot_kws={'va':'bottom'}, fmt=\"\", cbar=False , cmap=\"YlGnBu\")\n",
    "sns.heatmap(ct, annot=expected, annot_kws={'va':'top'}, fmt=\".2f\", cbar=False, cmap=\"YlGnBu\")\n",
    "plt.show()\n",
    "\n",
    "# darstellung der daten: \n",
    "\n",
    "# hypothesentest: \n",
    "corr, p = spearmanr(df['elgnuc'], df['elgsun'])\n",
    "print(\"Korrelation: \", corr)\n",
    "print(\"P-Wert: \", p)\n",
    "\n",
    "# Interpretation: \n",
    "# Korrekt - spearmanr gibt uns einen negativen Wert aus und zeigt damit die negative Korrelation an"
   ]
  },
  {
   "cell_type": "code",
   "execution_count": 117,
   "metadata": {},
   "outputs": [
    {
     "name": "stderr",
     "output_type": "stream",
     "text": [
      "C:\\Users\\s8gre\\AppData\\Local\\Temp\\ipykernel_29664\\1150896837.py:5: SettingWithCopyWarning: \n",
      "A value is trying to be set on a copy of a slice from a DataFrame\n",
      "\n",
      "See the caveats in the documentation: https://pandas.pydata.org/pandas-docs/stable/user_guide/indexing.html#returning-a-view-versus-a-copy\n",
      "  austria.drop(austria.loc[austria > 10].index, axis=0, inplace=True)\n",
      "C:\\Users\\s8gre\\AppData\\Local\\Temp\\ipykernel_29664\\1150896837.py:7: SettingWithCopyWarning: \n",
      "A value is trying to be set on a copy of a slice from a DataFrame\n",
      "\n",
      "See the caveats in the documentation: https://pandas.pydata.org/pandas-docs/stable/user_guide/indexing.html#returning-a-view-versus-a-copy\n",
      "  hungary.drop(hungary.loc[hungary > 10].index, axis=0, inplace=True)\n"
     ]
    },
    {
     "data": {
      "image/png": "[encoded data removed]",
      "text/plain": [
       "<Figure size 640x480 with 1 Axes>"
      ]
     },
     "metadata": {},
     "output_type": "display_data"
    },
    {
     "name": "stdout",
     "output_type": "stream",
     "text": [
      "P-Value:  0.24227736746379908\n"
     ]
    }
   ],
   "source": [
    "# hypothesentest c: In ̈Oesterreich ist der Eindruck, dass sich der Klimawandel schlechter auf die Menschen auswirkt, staerker als in Ungarn (ccgdbd)\n",
    "\n",
    "# aufbereitung der daten:\n",
    "austria = df.loc[df.cntry == \"AT\"][\"ccgdbd\"]\n",
    "austria.drop(austria.loc[austria > 10].index, axis=0, inplace=True)\n",
    "hungary = df.loc[df.cntry == \"HU\"][\"ccgdbd\"]\n",
    "hungary.drop(hungary.loc[hungary > 10].index, axis=0, inplace=True)\n",
    "\n",
    "austria = austria.value_counts(normalize=True)\n",
    "hungary = hungary.value_counts(normalize=True)\n",
    "\n",
    "# darstellung der daten: \n",
    "\n",
    "plt.bar(['Austria', 'Hungary'], [pd.Series.median(austria), pd.Series.median(hungary)])\n",
    "plt.show()\n",
    "\n",
    "# hypothesentest: \n",
    "chi, p, dof, expected = chi2_contingency(pd.crosstab(austria, hungary))\n",
    "print (\"P-Value: \", p)\n",
    "\n",
    "# Interpretation: \n",
    "# Korrekt!"
   ]
  },
  {
   "cell_type": "code",
   "execution_count": 109,
   "metadata": {},
   "outputs": [
    {
     "data": {
      "image/png": "[encoded data removed]",
      "text/plain": [
       "<Figure size 640x480 with 1 Axes>"
      ]
     },
     "metadata": {},
     "output_type": "display_data"
    },
    {
     "name": "stdout",
     "output_type": "stream",
     "text": [
      "Chi: 0.3528942490519543\n",
      "p: 0.9991974427828156\n",
      "dof 6\n",
      "expected [[0.42156945 0.57843055]\n",
      " [0.42156945 0.57843055]\n",
      " [0.42156945 0.57843055]\n",
      " [0.42156945 0.57843055]\n",
      " [0.42156945 0.57843055]\n",
      " [0.42156945 0.57843055]\n",
      " [0.42156945 0.57843055]]\n"
     ]
    }
   ],
   "source": [
    "# hypothesentest d: Frauen stimmen einem bedingungslosen Grundeinkommen eher zu (basinc).\n",
    "\n",
    "# aufbereitung der daten:\n",
    "income = df[\"basinc\"]\n",
    "maenner = trust.loc[df[\"gndr\"] == \"Male\"]\n",
    "frauen = trust.loc[df[\"gndr\"] == \"Female\"]\n",
    "man_women = df.loc[(df[\"gndr\"] == \"Female\") | (df[\"gndr\"] == \"Male\")][\"gndr\"]\n",
    "\n",
    "# darstellung der daten: \n",
    "x = pd.crosstab(income, man_women, normalize='index')\n",
    "x.plot.bar(rot=0)\n",
    "plt.show()\n",
    "\n",
    "\n",
    "# hypothesentest:\n",
    "chi, p, dof, expected = chi2_contingency(x)\n",
    "print (\"P-Value:\", p)\n",
    "\n",
    "# Interpretation: \n",
    "# Korrekt!\n"
   ]
  },
  {
   "cell_type": "code",
   "execution_count": null,
   "metadata": {},
   "outputs": [],
   "source": [
    "# hypothesentest e:\n",
    "\n",
    "# aufbereitung der daten:\n",
    "\n",
    "# darstellung der daten: \n",
    "\n",
    "# hypothesentest: \n"
   ]
  },
  {
   "cell_type": "code",
   "execution_count": null,
   "metadata": {},
   "outputs": [],
   "source": [
    "# hypothesentest f:\n",
    "\n",
    "# aufbereitung der daten:\n",
    "\n",
    "# darstellung der daten: \n",
    "\n",
    "# hypothesentest: \n"
   ]
  },
  {
   "cell_type": "code",
   "execution_count": null,
   "metadata": {},
   "outputs": [],
   "source": [
    "# interpretation der ergebnisse: "
   ]
  }
 ],
 "metadata": {
  "kernelspec": {
   "display_name": "Python 3",
   "language": "python",
   "name": "python3"
  },
  "language_info": {
   "codemirror_mode": {
    "name": "ipython",
    "version": 3
   },
   "file_extension": ".py",
   "mimetype": "text/x-python",
   "name": "python",
   "nbconvert_exporter": "python",
   "pygments_lexer": "ipython3",
   "version": "3.9.1"
  },
  "orig_nbformat": 4,
  "vscode": {
   "interpreter": {
    "hash": "a7a041d1134705da44353d01ddd658c6575333281888fab0a4d55d2b3f61ed6c"
   }
  }
 },
 "nbformat": 4,
 "nbformat_minor": 2
}
